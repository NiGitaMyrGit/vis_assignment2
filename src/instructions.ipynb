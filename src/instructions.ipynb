{
 "cells": [
  {
   "attachments": {},
   "cell_type": "markdown",
   "metadata": {},
   "source": [
    "# Assignment 2 - Classification benchmarks with Logistic Regression and Neural Networks\n",
    "\n",
    "For this assignment, we'll be writing scripts which classify the ```Cifar10``` dataset.\n",
    "\n",
    "You should write code which does the following:\n",
    "\n",
    "- Load the Cifar10 dataset\n",
    "- Preprocess the data (e.g. greyscale, reshape)\n",
    "- Train a classifier on the data\n",
    "- Save a classification report\n",
    "\n",
    "Write two script: which does this for a **logistic regression classifier** and one which does it for a **neural network classifier**. In both cases, you should use the machine learning tools available via ```scikit-learn```.\n",
    "\n",
    "## Tips\n",
    "\n",
    "- You should structure your project by having scripts saved in a folder called ```src```, and have a folder called ```out``` where you save the classification reports.\n",
    "- Consider using some of the things we've seen in class, such as virtual environments and setup scripts.\n",
    "\n",
    "## Purpose\n",
    "\n",
    "- To ensure that you can use ```scikit-learn``` to build simple benchmark classifiers on image classification data\n",
    "- To demonstrate that you can build reproducible pipelines for machine learning projects\n",
    "- To make sure that you can structure repos appropriately\n",
    "\n"
   ]
  }
 ],
 "metadata": {
  "kernelspec": {
   "display_name": "Python 3",
   "language": "python",
   "name": "python3"
  },
  "language_info": {
   "name": "python",
   "version": "3.11.2"
  },
  "orig_nbformat": 4
 },
 "nbformat": 4,
 "nbformat_minor": 2
}
