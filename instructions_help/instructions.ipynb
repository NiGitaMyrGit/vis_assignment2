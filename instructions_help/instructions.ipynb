{
 "cells": [
  {
   "attachments": {},
   "cell_type": "markdown",
   "metadata": {},
   "source": [
    "# Assignment 2 - Classification benchmarks with Logistic Regression and Neural Networks\n",
    "\n",
    "For this assignment, we'll be writing scripts which classify the ```Cifar10``` dataset.\n",
    "\n",
    "## Workflow\n",
    "\n",
    "- **Load** the **Cifar10 dataset**\n",
    "- **Preprocess** the data (e.g. **greyscale**, **reshape**)\n",
    "- **Train** a **classifier** on the **data**\n",
    "- **Save** a **classification report**\n",
    "\n",
    "Write **two script**: which does this for a **logistic regression classifier** and one which does it for a **neural network classifier**. In both cases, you should use the machine learning tools available via ```scikit-learn```.\n",
    "\n",
    "## Tips\n",
    "- You should structure your project by \n",
    "    - folder called ```src``` where **scripts** are saved\n",
    "    - folder called ```out``` where the **classification reports** are saved.\n",
    "- Consider using some of the things we've seen in class, such as **virtual environments** *venv* and **setup scripts**.\n",
    "\n",
    "## Purpose\n",
    "- able to use ```scikit-learn```  for building **simple benchmark classifiers** on **image classification data**\n",
    "- able to build **reproducible pipelines** for **machine learning projects**\n",
    "- able to **structure repos** appropriately\n",
    "\n"
   ]
  },
  {
   "attachments": {},
   "cell_type": "markdown",
   "metadata": {},
   "source": []
  }
 ],
 "metadata": {
  "kernelspec": {
   "display_name": "Python 3",
   "language": "python",
   "name": "python3"
  },
  "language_info": {
   "name": "python",
   "version": "3.9.2 (default, Feb 28 2021, 17:03:44) \n[GCC 10.2.1 20210110]"
  },
  "orig_nbformat": 4,
  "vscode": {
   "interpreter": {
    "hash": "767d51c1340bd893661ea55ea3124f6de3c7a262a8b4abca0554b478b1e2ff90"
   }
  }
 },
 "nbformat": 4,
 "nbformat_minor": 2
}
